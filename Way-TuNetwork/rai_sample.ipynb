{
 "cells": [
  {
   "cell_type": "code",
   "execution_count": 1,
   "metadata": {},
   "outputs": [
    {
     "name": "stdout",
     "output_type": "stream",
     "text": [
      "Jupyter environment detected. Enabling Open3D WebVisualizer.\n",
      "[Open3D INFO] WebRTC GUI backend enabled.\n",
      "[Open3D INFO] WebRTCWindowSystem: HTTP handshake server disabled.\n",
      "-- ry.cpp:operator():86(0) python,\n",
      "physx/motorKp: 10000,\n",
      "physx/motorKd: 1000,\n",
      "physx/angularDamping: 10,\n",
      "physx/defaultFriction: 100\n"
     ]
    }
   ],
   "source": [
    "import robotic as ry\n",
    "import numpy as np\n",
    "import time\n",
    "# import matplotlib.pyplot as plt\n",
    "import WayTu_Rai.helpers_with_komo as hlp\n",
    "from WayTu_Rai.PointCloud import PointCloud\n",
    "from WayTu_Rai.GenerateEnvironment import GenerateEnvironment\n",
    "import WayTu_Model.test_model as model\n",
    "# import open3d as o3d\n",
    "import random\n",
    "\n",
    "import os\n",
    "import pickle\n",
    "# import helpers as he\n",
    "\n",
    "\n",
    "\n",
    "ry.params_add({'physx/motorKp': 10000., \n",
    "               'physx/motorKd': 1000., \n",
    "               'physx/angularDamping': 10., \n",
    "               'physx/defaultFriction': 100.})\n",
    "ry.params_print()"
   ]
  },
  {
   "cell_type": "code",
   "execution_count": null,
   "metadata": {},
   "outputs": [],
   "source": [
    "cfg = model.get_config()"
   ]
  },
  {
   "cell_type": "code",
   "execution_count": 3,
   "metadata": {},
   "outputs": [
    {
     "data": {
      "text/plain": [
       "'0.0.27'"
      ]
     },
     "execution_count": 3,
     "metadata": {},
     "output_type": "execute_result"
    }
   ],
   "source": [
    "ry.__version__"
   ]
  },
  {
   "cell_type": "code",
   "execution_count": null,
   "metadata": {},
   "outputs": [],
   "source": [
    "if cfg['train'] == True:\n",
    "    model.collect_sample(cfg)\n",
    "\n",
    "else:   \n",
    "    model.real_end_to_end_test(cfg)"
   ]
  },
  {
   "cell_type": "markdown",
   "metadata": {},
   "source": []
  }
 ],
 "metadata": {
  "kernelspec": {
   "display_name": "rai_venv_v2",
   "language": "python",
   "name": "python3"
  },
  "language_info": {
   "codemirror_mode": {
    "name": "ipython",
    "version": 3
   },
   "file_extension": ".py",
   "mimetype": "text/x-python",
   "name": "python",
   "nbconvert_exporter": "python",
   "pygments_lexer": "ipython3",
   "version": "3.10.12"
  }
 },
 "nbformat": 4,
 "nbformat_minor": 2
}
