{
 "cells": [
  {
   "cell_type": "code",
   "execution_count": null,
   "metadata": {},
   "outputs": [],
   "source": [
    "import WayTu_Model.trainModel as model_train \n",
    "import matplotlib.pyplot as plt\n",
    "import WayTu_Model.test_model as model\n",
    "\n",
    "\n",
    "cfg = model.get_config()\n",
    "\n",
    "dataset_root_path = cfg['datasets-path']\n",
    "feature_extractor_model_path = cfg['feature-extractor']\n",
    "\n",
    "if cfg['train-model'] == 'e2e':\n",
    "    losses, val_losses = model_train.end_to_end_model_io(cfg,dataset_root_path,feature_extractor_model_path)\n",
    "else:\n",
    "    raise ValueError('There is no model specified with given name.')\n",
    "\n",
    "\n"
   ]
  },
  {
   "cell_type": "code",
   "execution_count": null,
   "metadata": {},
   "outputs": [],
   "source": [
    "import seaborn as sns\n",
    "sns.set_theme()\n",
    "\n",
    "plt.plot(list(range(len(losses))), losses, label='train ' + \"{:.2f}\".format(min(losses)))\n",
    "plt.plot(list(range(len(val_losses))), val_losses, label='val ' + \"{:.2f}\".format(min(val_losses)))\n",
    "\n",
    "plt.title(cfg['train-model'] + \" Model Loss\")\n",
    "plt.xlabel(\"Num of Epochs\")  \n",
    "plt.ylabel(\"Loss\")\n",
    "plt.legend()\n",
    "\n",
    "# plt.ylim((0,0.2))\n",
    "\n",
    "plt.show()"
   ]
  },
  {
   "cell_type": "code",
   "execution_count": 3,
   "metadata": {},
   "outputs": [],
   "source": [
    "import torch \n",
    "torch.cuda.empty_cache()"
   ]
  }
 ],
 "metadata": {
  "kernelspec": {
   "display_name": "venv-waytu",
   "language": "python",
   "name": "python3"
  },
  "language_info": {
   "codemirror_mode": {
    "name": "ipython",
    "version": 3
   },
   "file_extension": ".py",
   "mimetype": "text/x-python",
   "name": "python",
   "nbconvert_exporter": "python",
   "pygments_lexer": "ipython3",
   "version": "3.10.12"
  }
 },
 "nbformat": 4,
 "nbformat_minor": 2
}
